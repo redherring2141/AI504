{
 "cells": [
  {
   "cell_type": "code",
   "execution_count": 1,
   "metadata": {},
   "outputs": [],
   "source": [
    "import numpy as np"
   ]
  },
  {
   "cell_type": "code",
   "execution_count": 2,
   "metadata": {},
   "outputs": [],
   "source": [
    "def print_obj(obj, name):\n",
    "    print(\"%s:\\n%s\\n\" % (name, obj))\n",
    "    \n",
    "def check_each(a, b):\n",
    "    return (a == b).astype('bool')\n",
    "\n",
    "def check_mean(a, b):\n",
    "    return np.mean(a == b).astype('bool')"
   ]
  },
  {
   "cell_type": "markdown",
   "metadata": {},
   "source": [
    "### Scalars, Vectors, Matrices"
   ]
  },
  {
   "cell_type": "code",
   "execution_count": 3,
   "metadata": {},
   "outputs": [],
   "source": [
    "a = np.array(1.)\n",
    "b = np.array([1., 2., 3.])\n",
    "c = np.array([[1., 2., 3.], [4., 5., 6.]])"
   ]
  },
  {
   "cell_type": "code",
   "execution_count": 4,
   "metadata": {},
   "outputs": [
    {
     "output_type": "stream",
     "name": "stdout",
     "text": [
      "a:\n1.0\n\nb:\n[1. 2. 3.]\n\nc:\n[[1. 2. 3.]\n [4. 5. 6.]]\n\n"
     ]
    }
   ],
   "source": [
    "print_obj(a, \"a\")\n",
    "print_obj(b, \"b\")\n",
    "print_obj(c, \"c\")"
   ]
  },
  {
   "cell_type": "code",
   "execution_count": 5,
   "metadata": {},
   "outputs": [
    {
     "output_type": "stream",
     "name": "stdout",
     "text": [
      "a.ndim:\n0\n\nb.ndim:\n1\n\nc.ndim:\n2\n\n"
     ]
    }
   ],
   "source": [
    "print_obj(a.ndim, \"a.ndim\")\n",
    "print_obj(b.ndim, \"b.ndim\")\n",
    "print_obj(c.ndim, \"c.ndim\")"
   ]
  },
  {
   "cell_type": "code",
   "execution_count": 6,
   "metadata": {},
   "outputs": [
    {
     "output_type": "stream",
     "name": "stdout",
     "text": [
      "a.shape:\n()\n\nb.shape:\n(3,)\n\nc.shape:\n(2, 3)\n\nc.shape[0]:\n2\n\n"
     ]
    }
   ],
   "source": [
    "print_obj(a.shape, \"a.shape\")\n",
    "print_obj(b.shape, \"b.shape\")\n",
    "print_obj(c.shape, \"c.shape\")\n",
    "print_obj(c.shape[0], \"c.shape[0]\")"
   ]
  },
  {
   "cell_type": "markdown",
   "metadata": {},
   "source": [
    "### Tensors (N-dimensional array)"
   ]
  },
  {
   "cell_type": "code",
   "execution_count": 7,
   "metadata": {},
   "outputs": [],
   "source": [
    "d = np.array([[[1., 2., 3.], [4., 5., 6.]], [[7., 8., 9.], [10., 11., 12.]]])\n",
    "e = np.array([[[[1., 2., 3.], [1., 2., 3.]], [[4., 5., 6.], [4., 5., 6.]]],\n",
    "              [[[7., 8., 9.], [7., 8., 9.]], [[10., 11., 12.], [10., 11., 12.]]]])"
   ]
  },
  {
   "cell_type": "code",
   "execution_count": 8,
   "metadata": {},
   "outputs": [
    {
     "name": "stdout",
     "output_type": "stream",
     "text": [
      "d:\n",
      "[[[ 1.  2.  3.]\n",
      "  [ 4.  5.  6.]]\n",
      "\n",
      " [[ 7.  8.  9.]\n",
      "  [10. 11. 12.]]]\n",
      "\n",
      "d.ndim:\n",
      "3\n",
      "\n",
      "d.shape:\n",
      "(2, 2, 3)\n",
      "\n",
      "e:\n",
      "[[[[ 1.  2.  3.]\n",
      "   [ 1.  2.  3.]]\n",
      "\n",
      "  [[ 4.  5.  6.]\n",
      "   [ 4.  5.  6.]]]\n",
      "\n",
      "\n",
      " [[[ 7.  8.  9.]\n",
      "   [ 7.  8.  9.]]\n",
      "\n",
      "  [[10. 11. 12.]\n",
      "   [10. 11. 12.]]]]\n",
      "\n",
      "e.ndim:\n",
      "4\n",
      "\n",
      "e.shape:\n",
      "(2, 2, 2, 3)\n",
      "\n"
     ]
    }
   ],
   "source": [
    "print_obj(d, \"d\")\n",
    "print_obj(d.ndim, \"d.ndim\")\n",
    "print_obj(d.shape, \"d.shape\")\n",
    "\n",
    "print_obj(e, \"e\")\n",
    "print_obj(e.ndim, \"e.ndim\")\n",
    "print_obj(e.shape, \"e.shape\")"
   ]
  },
  {
   "cell_type": "code",
   "execution_count": 12,
   "metadata": {},
   "outputs": [
    {
     "name": "stdout",
     "output_type": "stream",
     "text": [
      "(2, 3, 1)\n"
     ]
    }
   ],
   "source": [
    "# Quiz: What is the shape of [[[1], [2], [3]], [[4], [5], [6]]]?\n",
    "q1 = np.array([[[1], [2], [3]], [[4], [5], [6]]])\n",
    "print(q1.shape)"
   ]
  },
  {
   "cell_type": "markdown",
   "metadata": {},
   "source": [
    "### Defining Numpy arrays"
   ]
  },
  {
   "cell_type": "code",
   "execution_count": 13,
   "metadata": {},
   "outputs": [
    {
     "data": {
      "text/plain": [
       "array([1., 1., 1., 1., 1., 1., 1., 1., 1., 1.])"
      ]
     },
     "execution_count": 13,
     "metadata": {},
     "output_type": "execute_result"
    }
   ],
   "source": [
    "a = np.ones(10)\n",
    "a"
   ]
  },
  {
   "cell_type": "code",
   "execution_count": 14,
   "metadata": {},
   "outputs": [
    {
     "data": {
      "text/plain": [
       "array([[0., 0., 0., 0., 0.],\n",
       "       [0., 0., 0., 0., 0.]])"
      ]
     },
     "execution_count": 14,
     "metadata": {},
     "output_type": "execute_result"
    }
   ],
   "source": [
    "a = np.zeros((2, 5))\n",
    "a"
   ]
  },
  {
   "cell_type": "code",
   "execution_count": 15,
   "metadata": {},
   "outputs": [
    {
     "data": {
      "text/plain": [
       "array([[5, 5, 5, 5, 5],\n",
       "       [5, 5, 5, 5, 5]])"
      ]
     },
     "execution_count": 15,
     "metadata": {},
     "output_type": "execute_result"
    }
   ],
   "source": [
    "a = np.full((2,5), 5)\n",
    "a"
   ]
  },
  {
   "cell_type": "code",
   "execution_count": 16,
   "metadata": {},
   "outputs": [
    {
     "data": {
      "text/plain": [
       "array([[[0.55076437, 0.72616038, 0.63231988, 0.84112067],\n",
       "        [0.28234531, 0.27197892, 0.17714034, 0.11716613],\n",
       "        [0.03799434, 0.38838445, 0.0266961 , 0.76688518]],\n",
       "\n",
       "       [[0.57271391, 0.92039771, 0.50670521, 0.25397612],\n",
       "        [0.10859892, 0.18053662, 0.99031194, 0.24251977],\n",
       "        [0.29501449, 0.03577463, 0.8706299 , 0.42076041]]])"
      ]
     },
     "execution_count": 16,
     "metadata": {},
     "output_type": "execute_result"
    }
   ],
   "source": [
    "a = np.random.random((2, 3, 4))\n",
    "a"
   ]
  },
  {
   "cell_type": "code",
   "execution_count": 17,
   "metadata": {},
   "outputs": [
    {
     "data": {
      "text/plain": [
       "array([0, 1, 2, 3, 4, 5, 6, 7, 8, 9])"
      ]
     },
     "execution_count": 17,
     "metadata": {},
     "output_type": "execute_result"
    }
   ],
   "source": [
    "a = np.arange(10)\n",
    "a"
   ]
  },
  {
   "cell_type": "code",
   "execution_count": 18,
   "metadata": {},
   "outputs": [
    {
     "data": {
      "text/plain": [
       "array([0., 1., 2., 3., 4., 5., 6., 7., 8., 9.])"
      ]
     },
     "execution_count": 18,
     "metadata": {},
     "output_type": "execute_result"
    }
   ],
   "source": [
    "a = np.arange(10).astype(float)\n",
    "a"
   ]
  },
  {
   "cell_type": "code",
   "execution_count": 19,
   "metadata": {},
   "outputs": [
    {
     "data": {
      "text/plain": [
       "array([[0, 1],\n",
       "       [2, 3],\n",
       "       [4, 5],\n",
       "       [6, 7],\n",
       "       [8, 9]])"
      ]
     },
     "execution_count": 19,
     "metadata": {},
     "output_type": "execute_result"
    }
   ],
   "source": [
    "a = np.arange(10).reshape((5,2))\n",
    "a"
   ]
  },
  {
   "cell_type": "code",
   "execution_count": 27,
   "metadata": {},
   "outputs": [
    {
     "data": {
      "text/plain": [
       "array([[[ 0,  1],\n",
       "        [ 2,  3],\n",
       "        [ 4,  5]],\n",
       "\n",
       "       [[ 6,  7],\n",
       "        [ 8,  9],\n",
       "        [10, 11]],\n",
       "\n",
       "       [[12, 13],\n",
       "        [14, 15],\n",
       "        [16, 17]],\n",
       "\n",
       "       [[18, 19],\n",
       "        [20, 21],\n",
       "        [22, 23]]])"
      ]
     },
     "execution_count": 27,
     "metadata": {},
     "output_type": "execute_result"
    }
   ],
   "source": [
    "# Quiz: Create a 4-by-3-by-2 tensor filled with 0.0 to 23.0\n",
    "q2 = np.arange(24).reshape((4,3,2))\n",
    "q2"
   ]
  },
  {
   "cell_type": "markdown",
   "metadata": {},
   "source": [
    "### Indexing & Slicing"
   ]
  },
  {
   "cell_type": "code",
   "execution_count": 18,
   "metadata": {},
   "outputs": [
    {
     "output_type": "stream",
     "name": "stdout",
     "text": [
      "a:\n[0 1 2 3 4 5 6 7 8 9]\n\na[0]:\n0\n\na[1]:\n1\n\na[-1]:\n9\n\na[-3]:\n7\n\na[0:10]:\n[0 1 2 3 4 5 6 7 8 9]\n\na[0:]:\n[0 1 2 3 4 5 6 7 8 9]\n\na[:10]:\n[0 1 2 3 4 5 6 7 8 9]\n\na[:]:\n[0 1 2 3 4 5 6 7 8 9]\n\na[7:]:\n[7 8 9]\n\na[:5]:\n[0 1 2 3 4]\n\na[2:5]:\n[2 3 4]\n\na[-4:]:\n[6 7 8 9]\n\na[:-8]:\n[0 1]\n\na[0:10:2]:\n[0 2 4 6 8]\n\na[0:10:3]:\n[0 3 6 9]\n\na[2:6:3]:\n[2 5]\n\na[::-1]:\n[9 8 7 6 5 4 3 2 1 0]\n\na[8:5:-1]:\n[8 7 6]\n\na[8:5]:\n[]\n\n[9 6 3]\n[9 6 3]\n[9 6 3]\n"
     ]
    }
   ],
   "source": [
    "# Indexing and slicing a vector\n",
    "a = np.arange(10)\n",
    "print_obj(a, \"a\")\n",
    "\n",
    "print_obj(a[0], \"a[0]\")\n",
    "print_obj(a[1], \"a[1]\")\n",
    "print_obj(a[-1], \"a[-1]\")\n",
    "print_obj(a[-3], \"a[-3]\")\n",
    "\n",
    "print_obj(a[0:10], \"a[0:10]\")\n",
    "print_obj(a[0:], \"a[0:]\")\n",
    "print_obj(a[:10], \"a[:10]\")\n",
    "print_obj(a[:], \"a[:]\")\n",
    "\n",
    "print_obj(a[7:], \"a[7:]\")\n",
    "print_obj(a[:5], \"a[:5]\")\n",
    "print_obj(a[2:5], \"a[2:5]\")\n",
    "\n",
    "# Quiz: What is a[-4:]?\n",
    "print_obj(a[-4:], \"a[-4:]\")\n",
    "# Quiz: What is a[:-8]?\n",
    "print_obj(a[:-8], \"a[:-8]\")\n",
    "\n",
    "print_obj(a[0:10:2], \"a[0:10:2]\")\n",
    "print_obj(a[0:10:3], \"a[0:10:3]\")\n",
    "print_obj(a[2:6:3], \"a[2:6:3]\")\n",
    "\n",
    "print_obj(a[::-1], \"a[::-1]\")\n",
    "print_obj(a[8:5:-1], \"a[8:5:-1]\")\n",
    "print_obj(a[8:5], \"a[8:5]\")\n",
    "\n",
    "# Quiz: Create [9, 6, 3] using a.\n",
    "print(a[-1:-9:-3])\n",
    "#Solution\n",
    "print(a[-1:1:-3])\n",
    "print(a[9:2:-3])"
   ]
  },
  {
   "cell_type": "code",
   "execution_count": 26,
   "metadata": {},
   "outputs": [
    {
     "output_type": "stream",
     "name": "stdout",
     "text": [
      "a:\n[[0 1 2]\n [3 4 5]\n [6 7 8]]\n\na[0][0]:\n0\n\na[0,0]:\n0\n\na[1,1]:\n4\n\n[6 7 8]\n[6 7 8]\n[1 4 7]\n[8, 5]\n[8 5]\n"
     ]
    }
   ],
   "source": [
    "# Indexing a matrix\n",
    "a = np.arange(9).reshape((3,3))\n",
    "print_obj(a, \"a\")\n",
    "print_obj(a[0][0], \"a[0][0]\")\n",
    "print_obj(a[0,0], \"a[0,0]\")\n",
    "print_obj(a[1,1], \"a[1,1]\")\n",
    "\n",
    "# Quiz: How to access the last row?\n",
    "print(a[-1][:])\n",
    "#Solution\n",
    "print(a[-1,:])\n",
    "\n",
    "# Quiz: How to access the second column?\n",
    "print(a[:,1])\n",
    "\n",
    "# Quiz: How to create [8, 5] using a?\n",
    "print([a[2,2], a[1,2]])\n",
    "#Solution\n",
    "print(a[2:0:-1, 2])"
   ]
  },
  {
   "cell_type": "code",
   "execution_count": 34,
   "metadata": {},
   "outputs": [
    {
     "output_type": "stream",
     "name": "stdout",
     "text": [
      "a:\n[[[ 0  1]\n  [ 2  3]\n  [ 4  5]]\n\n [[ 6  7]\n  [ 8  9]\n  [10 11]]\n\n [[12 13]\n  [14 15]\n  [16 17]]\n\n [[18 19]\n  [20 21]\n  [22 23]]]\n\na[2, 1, 0]:\n14\n\na[0]:\n[[0 1]\n [2 3]\n [4 5]]\n\na[0,1]:\n[2 3]\n\n[[ 0  2  4]\n [ 6  8 10]]\n[[ 0  2  4]\n [ 6  8 10]]\n"
     ]
    }
   ],
   "source": [
    "# Indexing and slicing a 3D tensor\n",
    "a = np.arange(4*3*2).reshape((4, 3, 2))\n",
    "print_obj(a, \"a\")\n",
    "print_obj(a[2, 1, 0], \"a[2, 1, 0]\")\n",
    "\n",
    "# Quiz: What would be a[0]?\n",
    "print_obj(a[0], \"a[0]\")\n",
    "# Quiz: What would be a[0, 1]?\n",
    "print_obj(a[0,1], \"a[0,1]\")\n",
    "# Quiz: Create [[0, 2, 4], [6, 8, 10]]\n",
    "print(a[0:2,:,0])\n",
    "#Solution\n",
    "print(a[:2,:,0])"
   ]
  },
  {
   "cell_type": "code",
   "execution_count": 40,
   "metadata": {},
   "outputs": [
    {
     "output_type": "stream",
     "name": "stdout",
     "text": [
      "a:\n[[0 1]\n [2 3]\n [4 5]]\n\nidx:\n[[ True False]\n [ True False]\n [ True False]]\n\n[0 2 4]\nidx_2:\n[[False False]\n [False  True]\n [ True  True]]\n\n"
     ]
    },
    {
     "output_type": "execute_result",
     "data": {
      "text/plain": [
       "array([3, 4, 5])"
      ]
     },
     "metadata": {},
     "execution_count": 40
    }
   ],
   "source": [
    "# Conditional indexing\n",
    "a = np.arange(3*2).reshape((3,2))\n",
    "print_obj(a, \"a\")\n",
    "\n",
    "idx = a % 2 == 0\n",
    "print_obj(idx, \"idx\")\n",
    "print(a[idx])\n",
    "\n",
    "# Quiz: How would you create [3, 4, 5] using a?\n",
    "idx_2 = a >= 3\n",
    "print_obj(idx_2, \"idx_2\")\n",
    "a[idx_2]"
   ]
  },
  {
   "cell_type": "code",
   "execution_count": 41,
   "metadata": {},
   "outputs": [
    {
     "output_type": "stream",
     "name": "stdout",
     "text": [
      "a[idx]:\n[0 2 3]\n\n"
     ]
    }
   ],
   "source": [
    "# Taking specific elements from a vector\n",
    "a = np.arange(10)\n",
    "idx = [0, 2, 3]\n",
    "print_obj(a[idx], \"a[idx]\")"
   ]
  },
  {
   "cell_type": "code",
   "execution_count": 46,
   "metadata": {},
   "outputs": [
    {
     "output_type": "stream",
     "name": "stdout",
     "text": [
      "a:\n[[ 0  1  2  3]\n [ 4  5  6  7]\n [ 8  9 10 11]\n [12 13 14 15]\n [16 17 18 19]\n [20 21 22 23]]\n\na[idx]:\n[[ 0  2  3]\n [ 4  6  7]\n [ 8 10 11]\n [12 14 15]\n [16 18 19]\n [20 22 23]]\n\na[idx]:\n[[ 0  1  2  3]\n [ 8  9 10 11]\n [12 13 14 15]]\n\ntuple indexing:\n[ 1  2  4 23]\n\nndarray indexing:\n[[[ 0  1  2  3]\n  [ 0  1  2  3]\n  [ 4  5  6  7]\n  [20 21 22 23]]\n\n [[ 4  5  6  7]\n  [ 8  9 10 11]\n  [ 0  1  2  3]\n  [12 13 14 15]]]\n\n"
     ]
    }
   ],
   "source": [
    "# Taking specific elements from a tensor\n",
    "a = np.arange(24).reshape((6,4))\n",
    "print_obj(a, \"a\")\n",
    "\n",
    "print_obj(a[:,[0, 2, 3]], \"a[idx]\")\n",
    "print_obj(a[[0, 2, 3], :], \"a[idx]\")\n",
    "\n",
    "idx = ((0,0,1,5),(1,2,0,3))\n",
    "print_obj(a[idx], \"tuple indexing\")\n",
    "\n",
    "idx = np.array([[0,0,1,5],[1,2,0,3]])\n",
    "print_obj(a[idx], \"ndarray indexing\")\n",
    "\n",
    "#idx = np.array([[:,0],[:,0],[:,1],[:,5]],[[:,1],[:,2],[:,0],[:,3]]])"
   ]
  },
  {
   "cell_type": "markdown",
   "metadata": {},
   "source": [
    "### Math Operations"
   ]
  },
  {
   "cell_type": "code",
   "execution_count": 47,
   "metadata": {},
   "outputs": [
    {
     "output_type": "stream",
     "name": "stdout",
     "text": [
      "a:\n[[0 1]\n [2 3]\n [4 5]]\n\nb:\n[[1. 1.]\n [1. 1.]\n [1. 1.]]\n\na+b:\n[[1. 2.]\n [3. 4.]\n [5. 6.]]\n\na-b:\n[[-1.  0.]\n [ 1.  2.]\n [ 3.  4.]]\n\na*b:\n[[0. 1.]\n [2. 3.]\n [4. 5.]]\n\na/b:\n[[0. 1.]\n [2. 3.]\n [4. 5.]]\n\n"
     ]
    }
   ],
   "source": [
    "# Basic operations\n",
    "a = np.arange(6).reshape((3, 2))\n",
    "b = np.ones((3, 2))\n",
    "print_obj(a, \"a\")\n",
    "print_obj(b, \"b\")\n",
    "\n",
    "# +, -, *, /\n",
    "print_obj(a+b, \"a+b\")\n",
    "print_obj(a-b, \"a-b\")\n",
    "print_obj(a*b, \"a*b\")\n",
    "print_obj(a/b, \"a/b\")"
   ]
  },
  {
   "cell_type": "code",
   "execution_count": 55,
   "metadata": {},
   "outputs": [
    {
     "output_type": "stream",
     "name": "stdout",
     "text": [
      "a:\n[[0 1]\n [2 3]\n [4 5]]\n\na.sum():\n15\n\na.sum(axis=0):\n[6 9]\n\na.sum(axis=1):\n[1 5 9]\n\na.mean():\n2.5\n\na.mean(axis=0):\n[2. 3.]\n\na.max():\n5\n\na.min():\n0\n\n46.0\n46.0\n"
     ]
    }
   ],
   "source": [
    "# Unary operations\n",
    "a = np.arange(6).reshape((3,2))\n",
    "print_obj(a, \"a\")\n",
    "\n",
    "print_obj(a.sum(), \"a.sum()\")\n",
    "print_obj(a.sum(axis=0), \"a.sum(axis=0)\")\n",
    "print_obj(a.sum(axis=1), \"a.sum(axis=1)\")\n",
    "\n",
    "print_obj(a.mean(), \"a.mean()\")\n",
    "print_obj(a.mean(axis=0), \"a.mean(axis=0)\")\n",
    "print_obj(a.max(), \"a.max()\")\n",
    "print_obj(a.min(), \"a.min()\")\n",
    "\n",
    "# Quiz: Given a = np.arange(24).reshape((2,3,4)), what is the mean of the sum w.r.t to the last dimension?\n",
    "a = np.arange(24).reshape((2,3,4))\n",
    "print(a.sum(axis=2).mean())\n",
    "#Solution\n",
    "print(np.arange(24).reshape((2,3,4)).sum(axis=-1).mean())"
   ]
  },
  {
   "cell_type": "code",
   "execution_count": 56,
   "metadata": {},
   "outputs": [
    {
     "output_type": "stream",
     "name": "stdout",
     "text": [
      "a:\n[0. 1. 2.]\n\nb:\n[1. 1. 1.]\n\na dot b:\n3.0\n\n"
     ]
    }
   ],
   "source": [
    "# Vector dot product\n",
    "a = np.arange(3).astype('float')\n",
    "b = np.ones(3)\n",
    "print_obj(a, \"a\")\n",
    "print_obj(b, \"b\")\n",
    "\n",
    "print_obj(np.dot(a, b), \"a dot b\")"
   ]
  },
  {
   "cell_type": "code",
   "execution_count": 57,
   "metadata": {},
   "outputs": [
    {
     "output_type": "stream",
     "name": "stdout",
     "text": [
      "a:\n[[0 1]\n [2 3]\n [4 5]]\n\nb:\n[[1. 1. 1.]\n [1. 1. 1.]]\n\na dot b:\n[[1. 1. 1.]\n [5. 5. 5.]\n [9. 9. 9.]]\n\na @ b:\n[[1. 1. 1.]\n [5. 5. 5.]\n [9. 9. 9.]]\n\n"
     ]
    }
   ],
   "source": [
    "# Matrix dot product, matrix multiplication\n",
    "a = np.arange(6).reshape((3, 2))\n",
    "b = np.ones((2, 3))\n",
    "print_obj(a, \"a\")\n",
    "print_obj(b, \"b\")\n",
    "\n",
    "print_obj(np.dot(a,b), \"a dot b\")\n",
    "print_obj(a@b, \"a @ b\") # @ is a matrix multiplication operator"
   ]
  },
  {
   "cell_type": "code",
   "execution_count": 62,
   "metadata": {},
   "outputs": [
    {
     "output_type": "stream",
     "name": "stdout",
     "text": [
      "a:\n[[[ 0  1]\n  [ 2  3]\n  [ 4  5]]\n\n [[ 6  7]\n  [ 8  9]\n  [10 11]]\n\n [[12 13]\n  [14 15]\n  [16 17]]\n\n [[18 19]\n  [20 21]\n  [22 23]]]\n\nb:\n[[[1. 1. 1.]\n  [1. 1. 1.]]\n\n [[1. 1. 1.]\n  [1. 1. 1.]]\n\n [[1. 1. 1.]\n  [1. 1. 1.]]\n\n [[1. 1. 1.]\n  [1. 1. 1.]]]\n\na dot b:\n(4, 3, 4, 3)\n\na @ b:\n(4, 3, 3)\n\na matmul b:\n(4, 3, 3)\n\n[[[ True  True  True]\n  [ True  True  True]\n  [ True  True  True]]\n\n [[ True  True  True]\n  [ True  True  True]\n  [ True  True  True]]\n\n [[ True  True  True]\n  [ True  True  True]\n  [ True  True  True]]\n\n [[ True  True  True]\n  [ True  True  True]\n  [ True  True  True]]]\na dot b:\n(2, 4, 3, 2, 4, 3)\n\na @ b:\n(2, 4, 3, 3)\n\na matmul b:\n(2, 4, 3, 3)\n\n[[[[ True  True  True]\n   [ True  True  True]\n   [ True  True  True]]\n\n  [[ True  True  True]\n   [ True  True  True]\n   [ True  True  True]]\n\n  [[ True  True  True]\n   [ True  True  True]\n   [ True  True  True]]\n\n  [[ True  True  True]\n   [ True  True  True]\n   [ True  True  True]]]\n\n\n [[[ True  True  True]\n   [ True  True  True]\n   [ True  True  True]]\n\n  [[ True  True  True]\n   [ True  True  True]\n   [ True  True  True]]\n\n  [[ True  True  True]\n   [ True  True  True]\n   [ True  True  True]]\n\n  [[ True  True  True]\n   [ True  True  True]\n   [ True  True  True]]]]\na dot b:\n[[[  3   4   5]\n  [  9  14  19]\n  [ 15  24  33]]\n\n [[ 21  34  47]\n  [ 27  44  61]\n  [ 33  54  75]]\n\n [[ 39  64  89]\n  [ 45  74 103]\n  [ 51  84 117]]\n\n [[ 57  94 131]\n  [ 63 104 145]\n  [ 69 114 159]]]\n\na @ b:\n[[[  3   4   5]\n  [  9  14  19]\n  [ 15  24  33]]\n\n [[ 21  34  47]\n  [ 27  44  61]\n  [ 33  54  75]]\n\n [[ 39  64  89]\n  [ 45  74 103]\n  [ 51  84 117]]\n\n [[ 57  94 131]\n  [ 63 104 145]\n  [ 69 114 159]]]\n\n"
     ]
    }
   ],
   "source": [
    "# Tensor dot product, tensor multiplication\n",
    "a = np.arange(24).reshape((4, 3, 2))\n",
    "b = np.ones((4, 2, 3))\n",
    "print_obj(a, \"a\")\n",
    "print_obj(b, \"b\")\n",
    "\n",
    "print_obj(np.dot(a,b).shape, \"a dot b\")\n",
    "print_obj((a@b).shape, \"a @ b\")\n",
    "print_obj(np.matmul(a,b).shape, \"a matmul b\")\n",
    "print(np.matmul(a,b) == (a@b))\n",
    "\n",
    "\n",
    "a = np.arange(2*24).reshape((2, 4, 3, 2))\n",
    "b = np.ones((2, 4, 2, 3))\n",
    "print_obj(np.dot(a,b).shape, \"a dot b\")\n",
    "print_obj((a@b).shape, \"a @ b\")\n",
    "print_obj(np.matmul(a,b).shape, \"a matmul b\")\n",
    "print(np.matmul(a,b) == (a@b))\n",
    "\n",
    "\n",
    "# Quiz: what would happen if a.shape==(4,3,2) and b.shape==(2,3)?\n",
    "a = np.arange(24).reshape((4,3,2))\n",
    "b = np.arange(6).reshape((2,3))\n",
    "print_obj(np.dot(a,b), \"a dot b\")\n",
    "print_obj((a@b), \"a @ b\")"
   ]
  },
  {
   "cell_type": "markdown",
   "metadata": {},
   "source": [
    "### Shape Manipulation"
   ]
  },
  {
   "cell_type": "code",
   "execution_count": 65,
   "metadata": {},
   "outputs": [
    {
     "output_type": "stream",
     "name": "stdout",
     "text": [
      "a:\n[[[ 0  1  2  3]\n  [ 4  5  6  7]\n  [ 8  9 10 11]]\n\n [[12 13 14 15]\n  [16 17 18 19]\n  [20 21 22 23]]]\n\nb:\n[[ 0  1  2  3]\n [ 4  5  6  7]\n [ 8  9 10 11]\n [12 13 14 15]\n [16 17 18 19]\n [20 21 22 23]]\n\nc:\n[[ 0  1  2  3]\n [ 4  5  6  7]\n [ 8  9 10 11]\n [12 13 14 15]\n [16 17 18 19]\n [20 21 22 23]]\n\nc:\n[[[ 0  1  2  3]\n  [ 4  5  6  7]]\n\n [[ 8  9 10 11]\n  [12 13 14 15]]\n\n [[16 17 18 19]\n  [20 21 22 23]]]\n\nd:\n[[[ 0]\n  [ 1]\n  [ 2]\n  [ 3]]\n\n [[ 4]\n  [ 5]\n  [ 6]\n  [ 7]]\n\n [[ 8]\n  [ 9]\n  [10]\n  [11]]\n\n [[12]\n  [13]\n  [14]\n  [15]]\n\n [[16]\n  [17]\n  [18]\n  [19]]\n\n [[20]\n  [21]\n  [22]\n  [23]]]\n\n"
     ]
    }
   ],
   "source": [
    "# Reshapes\n",
    "a = np.arange(24).reshape((2, 3, 4))\n",
    "print_obj(a, \"a\")\n",
    "\n",
    "b = a.reshape((6, 4))\n",
    "print_obj(b, \"b\")\n",
    "\n",
    "c = a.reshape((6, -1))\n",
    "print_obj(c, \"c\")\n",
    "\n",
    "c = a.reshape((3, 2, -1))\n",
    "print_obj(c, \"c\")\n",
    "\n",
    "# Quiz: What would d=a.reshape((6, 4, -1)) look like?\n",
    "d = a.reshape((6, 4, -1))\n",
    "print_obj(d, \"d\")\n"
   ]
  },
  {
   "cell_type": "code",
   "execution_count": 68,
   "metadata": {},
   "outputs": [
    {
     "output_type": "stream",
     "name": "stdout",
     "text": [
      "a:\n[0 1 2]\n\na[:, None]:\n[[0]\n [1]\n [2]]\n\na.reshape(3,1):\n[[0]\n [1]\n [2]]\n\n(3, 1, 1, 4)\n"
     ]
    }
   ],
   "source": [
    "# Adding an extra dimension\n",
    "a = np.arange(3)\n",
    "print_obj(a, \"a\")\n",
    "\n",
    "print_obj(a[:, None], \"a[:, None]\")\n",
    "\n",
    "print_obj(a.reshape(3,1), \"a.reshape(3,1)\")\n",
    "\n",
    "# Quiz: How to make a = np.ones((3,4)) into shape (3, 1, 1, 4) using reshape and None?\n",
    "a = np.ones((3,4))\n",
    "print(a[:, None, None].shape)"
   ]
  },
  {
   "cell_type": "code",
   "execution_count": 75,
   "metadata": {},
   "outputs": [
    {
     "output_type": "stream",
     "name": "stdout",
     "text": [
      "a:\n[[1. 1.]\n [1. 1.]\n [1. 1.]]\n\nb:\n[[0. 0.]\n [0. 0.]\n [0. 0.]]\n\na,b vstack:\n[[1. 1.]\n [1. 1.]\n [1. 1.]\n [0. 0.]\n [0. 0.]\n [0. 0.]]\n\na,b hstack:\n[[1. 1. 0. 0.]\n [1. 1. 0. 0.]\n [1. 1. 0. 0.]]\n\na,b hstack:\n[[1. 1. 0. 0. 1. 1.]\n [1. 1. 0. 0. 1. 1.]\n [1. 1. 0. 0. 1. 1.]]\n\na,b concat axis=0:\n[[1. 1.]\n [1. 1.]\n [1. 1.]\n [0. 0.]\n [0. 0.]\n [0. 0.]]\n\na,b concat axis=1:\n[[1. 1. 0. 0.]\n [1. 1. 0. 0.]\n [1. 1. 0. 0.]]\n\na, b concat axis=2:\n[[[1. 1. 0. 0.]\n  [1. 1. 0. 0.]\n  [1. 1. 0. 0.]]\n\n [[1. 1. 0. 0.]\n  [1. 1. 0. 0.]\n  [1. 1. 0. 0.]]\n\n [[1. 1. 0. 0.]\n  [1. 1. 0. 0.]\n  [1. 1. 0. 0.]]]\n\n"
     ]
    }
   ],
   "source": [
    "# Stack, concatenation\n",
    "a = np.ones((3,2))\n",
    "b = np.zeros((3,2))\n",
    "print_obj(a, \"a\")\n",
    "print_obj(b, \"b\")\n",
    "\n",
    "print_obj(np.vstack([a, b]), \"a,b vstack\")\n",
    "print_obj(np.hstack([a, b]), \"a,b hstack\")\n",
    "print_obj(np.hstack([a, b, a]), \"a,b hstack\")\n",
    "\n",
    "print_obj(np.concatenate([a, b], axis=0), \"a,b concat axis=0\")\n",
    "print_obj(np.concatenate([a, b], axis=1), \"a,b concat axis=1\")\n",
    "\n",
    "# Quiz: Would concatenating two tensors whose shapes are (4, 3, 2) and (5, 4, 2) on axis=2 work?\n",
    "# Answer : No.\n",
    "a = np.ones((3,3,2))\n",
    "b = np.zeros((3,3,2))\n",
    "print_obj(np.concatenate([a, b], axis=2), \"a, b concat axis=2\")\n",
    "# Other axis except for the specified axis must match"
   ]
  },
  {
   "cell_type": "code",
   "execution_count": 76,
   "metadata": {},
   "outputs": [
    {
     "output_type": "stream",
     "name": "stdout",
     "text": [
      "a:\n[[0 1]\n [2 3]\n [4 5]]\n\na.T:\n[[0 2 4]\n [1 3 5]]\n\n"
     ]
    }
   ],
   "source": [
    "# Matrix transpose\n",
    "a = np.arange(6).reshape((3, 2))\n",
    "print_obj(a, \"a\")\n",
    "\n",
    "print_obj(a.T, \"a.T\")"
   ]
  },
  {
   "cell_type": "code",
   "execution_count": 77,
   "metadata": {},
   "outputs": [
    {
     "output_type": "stream",
     "name": "stdout",
     "text": [
      "a:\n[[[ 0  1]\n  [ 2  3]\n  [ 4  5]]\n\n [[ 6  7]\n  [ 8  9]\n  [10 11]]\n\n [[12 13]\n  [14 15]\n  [16 17]]\n\n [[18 19]\n  [20 21]\n  [22 23]]]\n\nSwap axis 1 and 2:\n[[[ 0  2  4]\n  [ 1  3  5]]\n\n [[ 6  8 10]\n  [ 7  9 11]]\n\n [[12 14 16]\n  [13 15 17]]\n\n [[18 20 22]\n  [19 21 23]]]\n\nb's shape:\n(4, 2, 3)\n\nSwap axis 0 and 1:\n[[[ 0  1]\n  [ 6  7]\n  [12 13]\n  [18 19]]\n\n [[ 2  3]\n  [ 8  9]\n  [14 15]\n  [20 21]]\n\n [[ 4  5]\n  [10 11]\n  [16 17]\n  [22 23]]]\n\nc's shape:\n(3, 4, 2)\n\n"
     ]
    }
   ],
   "source": [
    "# Tensor transpose\n",
    "a = np.arange(24).reshape((4, 3, 2))\n",
    "print_obj(a, \"a\")\n",
    "\n",
    "b = np.transpose(a, [0, 2, 1])\n",
    "print_obj(b, \"Swap axis 1 and 2\")\n",
    "print_obj(b.shape, \"b's shape\")\n",
    "\n",
    "c = np.transpose(a, [1, 0, 2])\n",
    "print_obj(c, \"Swap axis 0 and 1\")\n",
    "print_obj(c.shape, \"c's shape\")"
   ]
  },
  {
   "cell_type": "markdown",
   "metadata": {},
   "source": [
    "### Broadcasting"
   ]
  },
  {
   "cell_type": "code",
   "execution_count": 78,
   "metadata": {},
   "outputs": [
    {
     "output_type": "stream",
     "name": "stdout",
     "text": [
      "a:\n[0 1 2]\n\na+b:\n[2. 3. 4.]\n\na-b:\n[-2. -1.  0.]\n\na*b:\n[0. 2. 4.]\n\na/b:\n[0.  0.5 1. ]\n\n"
     ]
    }
   ],
   "source": [
    "# Vector and scalar\n",
    "a = np.arange(3)\n",
    "b = 2.\n",
    "print_obj(a, \"a\")\n",
    "\n",
    "print_obj(a+b, \"a+b\")\n",
    "print_obj(a-b, \"a-b\")\n",
    "print_obj(a*b, \"a*b\")\n",
    "print_obj(a/b, \"a/b\")"
   ]
  },
  {
   "cell_type": "code",
   "execution_count": 82,
   "metadata": {},
   "outputs": [
    {
     "output_type": "stream",
     "name": "stdout",
     "text": [
      "a:\n[[0 1]\n [2 3]\n [4 5]]\n\nb:\n[1 2]\n\na+b:\n[[1 3]\n [3 5]\n [5 7]]\n\na:\n[[0 1]\n [2 3]\n [4 5]]\n\nb:\n[[0 1]]\n\na+b:\n[[0 2]\n [2 4]\n [4 6]]\n\n"
     ]
    }
   ],
   "source": [
    "# Matrix and vector\n",
    "a = np.arange(6).reshape((3,2))\n",
    "b = np.arange(2).reshape(2) + 1\n",
    "print_obj(a, \"a\")\n",
    "print_obj(b, \"b\")\n",
    "\n",
    "print_obj(a+b, \"a+b\")\n",
    "\n",
    "# Quiz: What would happen if b were np.arange(2).reshape((2, 1))? How about np.arange(2).reshape((1, 2))?\n",
    "# Answer: b = np.arange(2).reshape((2, 1)) does not work\n",
    "a = np.arange(6).reshape((3,2))\n",
    "b = np.arange(2).reshape((1,2))\n",
    "print_obj(a, \"a\")\n",
    "print_obj(b, \"b\")\n",
    "print_obj(a+b, \"a+b\")\n"
   ]
  },
  {
   "cell_type": "code",
   "execution_count": 84,
   "metadata": {},
   "outputs": [
    {
     "output_type": "stream",
     "name": "stdout",
     "text": [
      "a:\n[[[ 0  1]\n  [ 2  3]\n  [ 4  5]]\n\n [[ 6  7]\n  [ 8  9]\n  [10 11]]]\n\nb:\n[[0 1]\n [2 3]\n [4 5]]\n\na+b:\n[[[ 0  2]\n  [ 4  6]\n  [ 8 10]]\n\n [[ 6  8]\n  [10 12]\n  [14 16]]]\n\n[[[ 0  2]\n  [ 4  6]\n  [ 8 10]]\n\n [[ 6  8]\n  [10 12]\n  [14 16]]]\n"
     ]
    }
   ],
   "source": [
    "# Tensor and matrix\n",
    "a = np.arange(12).reshape((2,3,2))\n",
    "b = np.arange(6).reshape((3,2))\n",
    "print_obj(a, \"a\")\n",
    "print_obj(b, \"b\")\n",
    "\n",
    "print_obj(a+b, \"a+b\")\n",
    "\n",
    "#Quiz: How can we use None to do a+b?\n",
    "#Solution\n",
    "print(a + b[None, :, :])"
   ]
  },
  {
   "cell_type": "markdown",
   "metadata": {},
   "source": [
    "### Final Quiz"
   ]
  },
  {
   "cell_type": "code",
   "execution_count": 131,
   "metadata": {},
   "outputs": [],
   "source": [
    "def sigmoid(x):\n",
    "    return 1./(1. + np.exp(-x))\n",
    "\n",
    "# Define a function that, given M of shape (m,n) and W of shape (4n, n), executes the following:\n",
    "# - Take the first half rows of M\n",
    "# - Take the second half rows of M\n",
    "# - Take the odd-numbered rows of M\n",
    "# - Take the even-numbered rows of M\n",
    "# - Append them horizontally in the listed order so that you obtain a matrix X of shape (?, 4n)\n",
    "# - Linearly transform X with W so that you obtain a matrix Y of shape (?, ?)\n",
    "# - Put Y through the sigmoid function\n",
    "# - Obtain the sum of the row-wise mean\n",
    "def foo(M, W):\n",
    "    return 0."
   ]
  }
 ],
 "metadata": {
  "kernelspec": {
   "display_name": "Python 3",
   "language": "python",
   "name": "python3"
  },
  "language_info": {
   "codemirror_mode": {
    "name": "ipython",
    "version": 3
   },
   "file_extension": ".py",
   "mimetype": "text/x-python",
   "name": "python",
   "nbconvert_exporter": "python",
   "pygments_lexer": "ipython3",
   "version": "3.8.5-final"
  }
 },
 "nbformat": 4,
 "nbformat_minor": 4
}